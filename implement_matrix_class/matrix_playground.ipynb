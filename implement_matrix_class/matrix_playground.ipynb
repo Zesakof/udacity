{
 "cells": [
  {
   "cell_type": "code",
   "execution_count": 1,
   "metadata": {},
   "outputs": [],
   "source": [
    "# Run this cell but don't modify it.\n",
    "\n",
    "%load_ext autoreload\n",
    "%autoreload 2\n",
    "from matrix import Matrix, zeroes, identity"
   ]
  },
  {
   "cell_type": "code",
   "execution_count": 2,
   "metadata": {},
   "outputs": [
    {
     "name": "stdout",
     "output_type": "stream",
     "text": [
      "m1 is\n",
      "1  2 \n",
      "3  4 \n",
      "\n",
      "m2 is\n",
      "2  5 \n",
      "6  1 \n",
      "\n",
      "we've also provided you with a function called zeros\n",
      "here's what happens when you call zeros(4,2)\n",
      "0.0  0.0 \n",
      "0.0  0.0 \n",
      "0.0  0.0 \n",
      "0.0  0.0 \n",
      "\n",
      "we've also provided you with a function called identity\n",
      "here's identity(3)\n",
      "1.0  0.0  0.0 \n",
      "0.0  1.0  0.0 \n",
      "0.0  0.0  1.0 \n",
      "\n",
      "but not everything works yet!\n",
      "for example, matrix addition...\n",
      "run the cell below to see what happens when we try...\n"
     ]
    }
   ],
   "source": [
    "# some functionality already exists... here's a demo\n",
    "\n",
    "m1 = Matrix([\n",
    "    [1, 2],\n",
    "    [3, 4]\n",
    "])\n",
    "\n",
    "m2 = Matrix([\n",
    "    [2, 5],\n",
    "    [6, 1]\n",
    "])\n",
    "\n",
    "print(\"m1 is\")\n",
    "print(m1)\n",
    "\n",
    "print(\"m2 is\")\n",
    "print(m2)\n",
    "\n",
    "print(\"we've also provided you with a function called zeros\")\n",
    "print(\"here's what happens when you call zeros(4,2)\")\n",
    "print(zeroes(4,2))\n",
    "\n",
    "print(\"we've also provided you with a function called identity\")\n",
    "print(\"here's identity(3)\")\n",
    "print(identity(3))\n",
    "\n",
    "print(\"but not everything works yet!\")\n",
    "print(\"for example, matrix addition...\")\n",
    "print(\"run the cell below to see what happens when we try...\")"
   ]
  },
  {
   "cell_type": "code",
   "execution_count": 3,
   "metadata": {},
   "outputs": [
    {
     "name": "stdout",
     "output_type": "stream",
     "text": [
      "m1 + m2 is\n",
      "3  7 \n",
      "9  5 \n",
      "\n"
     ]
    }
   ],
   "source": [
    "m1 = Matrix([\n",
    "    [1, 2],\n",
    "    [3, 4]\n",
    "])\n",
    "\n",
    "m2 = Matrix([\n",
    "    [2, 5],\n",
    "    [6, 1]\n",
    "])\n",
    "\n",
    "m3 = m1 + m2\n",
    "print(\"m1 + m2 is\")\n",
    "print(m3)"
   ]
  },
  {
   "cell_type": "code",
   "execution_count": 4,
   "metadata": {},
   "outputs": [
    {
     "name": "stdout",
     "output_type": "stream",
     "text": [
      "Congratulations! All tests pass. Your Matrix class is working as expected.\n"
     ]
    }
   ],
   "source": [
    "# Try running this code. You should get an assertion error. \n",
    "# You will continue to get assertion errors until all the \n",
    "# methods in matrix.py are correctly implemented.\n",
    "\n",
    "# You can open matrix.py by selecting File > Open... \n",
    "# and then selecting matrix.py\n",
    "\n",
    "import test"
   ]
  },
  {
   "cell_type": "code",
   "execution_count": 5,
   "metadata": {},
   "outputs": [],
   "source": [
    "# open matrix.py (File > Open...) and start\n",
    "# implementing matrix methods! \n",
    "\n",
    "# when your code passes all the tests you can submit by \n",
    "# pressing the SUBMIT button in the lower right corner \n",
    "# of this page."
   ]
  },
  {
   "cell_type": "markdown",
   "metadata": {},
   "source": [
    "### These tests are taken from\n",
    "https://ltcconline.net/greenl/courses/203/MatricesApps/cofactors.htm"
   ]
  },
  {
   "cell_type": "code",
   "execution_count": 6,
   "metadata": {},
   "outputs": [
    {
     "name": "stdout",
     "output_type": "stream",
     "text": [
      "-7.0 \n",
      "\n",
      "-0.5714285714285714  -0.5714285714285714  0.42857142857142855 \n",
      "0.7142857142857142  0.7142857142857142  -0.2857142857142857 \n",
      "2.142857142857143  1.1428571428571428  -0.8571428571428571 \n",
      "\n"
     ]
    }
   ],
   "source": [
    "# Test a 3x3 matrix\n",
    "\n",
    "m_test3 = Matrix([\n",
    "    [2, 0, 1],\n",
    "    [0, 3, -1],\n",
    "    [5, 4, 0]\n",
    "])\n",
    "\n",
    "print(m_test3.determinant(), '\\n')\n",
    "print(m_test3.inverse())"
   ]
  },
  {
   "cell_type": "code",
   "execution_count": 7,
   "metadata": {},
   "outputs": [
    {
     "name": "stdout",
     "output_type": "stream",
     "text": [
      "27.0 \n",
      "\n",
      "0.3333333333333333  0.2962962962962963  -0.07407407407407407 \n",
      "-0.0  0.5555555555555556  0.1111111111111111 \n",
      "0.0  -0.4444444444444444  0.1111111111111111 \n",
      "\n"
     ]
    }
   ],
   "source": [
    "# Test another 3x3 matrix\n",
    "\n",
    "m_test3_2 = Matrix([\n",
    "    [3, 0, 2],\n",
    "    [0, 1, -1],\n",
    "    [0, 4, 5]\n",
    "])\n",
    "\n",
    "print(m_test3_2.determinant(), '\\n')\n",
    "print(m_test3_2.inverse())"
   ]
  },
  {
   "cell_type": "code",
   "execution_count": 8,
   "metadata": {},
   "outputs": [
    {
     "name": "stdout",
     "output_type": "stream",
     "text": [
      "-56.0 \n",
      "\n",
      "0.2857142857142857  -0.5714285714285714  -0.0  0.14285714285714285 \n",
      "0.07142857142857142  0.3571428571428571  0.0  0.2857142857142857 \n",
      "-0.1607142857142857  -0.30357142857142855  0.25  -0.14285714285714285 \n",
      "0.14285714285714285  -0.2857142857142857  0.0  -0.42857142857142855 \n",
      "\n"
     ]
    }
   ],
   "source": [
    "# Test a 4x4 matrix\n",
    "\n",
    "m_test4 = Matrix([\n",
    "    [1, 4, 0, 3],\n",
    "    [-1, 2, 0, 1],\n",
    "    [0, 5, 4, 2],\n",
    "    [1, 0, 0, -2]\n",
    "])\n",
    "\n",
    "print(m_test4.determinant(), '\\n')\n",
    "print(m_test4.inverse())"
   ]
  },
  {
   "cell_type": "code",
   "execution_count": null,
   "metadata": {},
   "outputs": [],
   "source": []
  }
 ],
 "metadata": {
  "kernelspec": {
   "display_name": "Python 3",
   "language": "python",
   "name": "python3"
  },
  "language_info": {
   "codemirror_mode": {
    "name": "ipython",
    "version": 3
   },
   "file_extension": ".py",
   "mimetype": "text/x-python",
   "name": "python",
   "nbconvert_exporter": "python",
   "pygments_lexer": "ipython3",
   "version": "3.6.3"
  }
 },
 "nbformat": 4,
 "nbformat_minor": 2
}
